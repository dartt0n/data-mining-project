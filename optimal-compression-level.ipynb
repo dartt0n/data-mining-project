{
 "cells": [
  {
   "cell_type": "code",
   "execution_count": 4,
   "id": "bb52f5b7",
   "metadata": {},
   "outputs": [],
   "source": [
    "import polars as pl\n",
    "\n",
    "\n",
    "def get_frame(file: str) -> pl.LazyFrame:\n",
    "    return (\n",
    "        pl.scan_ndjson(f\"sample/{file}.gz\")\n",
    "        .select(\n",
    "            pl.col(\"id\").alias(\"work_id\"),\n",
    "            pl.col(\"doi\"),\n",
    "            pl.col(\"title\"),\n",
    "            pl.col(\"publication_date\").alias(\"date\"),\n",
    "            (\n",
    "                pl.col(\"authorships\")\n",
    "                .alias(\"authors\")\n",
    "                .list.eval(\n",
    "                    pl.struct(\n",
    "                        pl.element().struct.field(\"author\").struct.field(\"id\"),\n",
    "                        (\n",
    "                            pl.element()\n",
    "                            .struct.field(\"author\")\n",
    "                            .struct.field(\"display_name\")\n",
    "                            .alias(\"name\")\n",
    "                        ),\n",
    "                        (pl.element().struct.field(\"countries\").alias(\"country_codes\")),\n",
    "                        (\n",
    "                            pl.element()\n",
    "                            .struct.field(\"institutions\")\n",
    "                            .list.eval(\n",
    "                                pl.struct(\n",
    "                                    pl.element().struct.field(\"id\"),\n",
    "                                    pl.element()\n",
    "                                    .struct.field(\"display_name\")\n",
    "                                    .alias(\"name\"),\n",
    "                                    pl.element().struct.field(\"country_code\"),\n",
    "                                )\n",
    "                            )\n",
    "                        ),\n",
    "                    )\n",
    "                )\n",
    "            ),\n",
    "            (\n",
    "                pl.col(\"concepts\").list.eval(\n",
    "                    pl.struct(\n",
    "                        pl.element().struct.field(\"id\"),\n",
    "                        pl.element().struct.field(\"display_name\").alias(\"name\"),\n",
    "                        pl.element().struct.field(\"score\").cast(pl.Float32),\n",
    "                    )\n",
    "                )\n",
    "            ),\n",
    "            (\n",
    "                pl.col(\"topics\").list.eval(\n",
    "                    pl.struct(\n",
    "                        pl.element().struct.field(\"id\"),\n",
    "                        pl.element().struct.field(\"display_name\").alias(\"name\"),\n",
    "                        (\n",
    "                            pl.element()\n",
    "                            .struct.field(\"domain\")\n",
    "                            .struct.field(\"display_name\")\n",
    "                            .alias(\"domain\")\n",
    "                        ),\n",
    "                        (\n",
    "                            pl.element()\n",
    "                            .struct.field(\"field\")\n",
    "                            .struct.field(\"display_name\")\n",
    "                            .alias(\"field\")\n",
    "                        ),\n",
    "                        pl.element().struct.field(\"score\"),\n",
    "                    )\n",
    "                )\n",
    "            ),\n",
    "            pl.col(\"referenced_works\"),\n",
    "            pl.col(\"related_works\"),\n",
    "            (pl.col(\"keywords\").list.eval(pl.element().struct.field(\"display_name\"))),\n",
    "            (\n",
    "                pl.col(\"counts_by_year\")\n",
    "                .alias(\"citations\")\n",
    "                .list.eval(\n",
    "                    pl.struct(\n",
    "                        pl.element().struct.field(\"year\").cast(pl.Int32),\n",
    "                        pl.element()\n",
    "                        .struct.field(\"cited_by_count\")\n",
    "                        .alias(\"count\")\n",
    "                        .cast(pl.Int32),\n",
    "                    )\n",
    "                )\n",
    "            ),\n",
    "        )\n",
    "        .with_columns(\n",
    "            # authors\n",
    "            (\n",
    "                pl.col(\"authors\").list.eval(\n",
    "                    pl.element().struct.with_fields(\n",
    "                        pl.field(\"id\").str.strip_prefix(\"https://openalex.org/\"),\n",
    "                        pl.field(\"institutions\").list.eval(\n",
    "                            pl.element().struct.with_fields(\n",
    "                                pl.field(\"id\").str.strip_prefix(\"https://openalex.org/\")\n",
    "                            )\n",
    "                        ),\n",
    "                    ),\n",
    "                )\n",
    "            ),\n",
    "            # topics\n",
    "            (\n",
    "                pl.col(\"topics\").list.eval(\n",
    "                    pl.element().struct.with_fields(\n",
    "                        pl.field(\"id\").str.strip_prefix(\"https://openalex.org/\")\n",
    "                    )\n",
    "                )\n",
    "            ),\n",
    "            # referenced works\n",
    "            (\n",
    "                pl.col(\"referenced_works\").list.eval(\n",
    "                    pl.element().str.strip_prefix(\"https://openalex.org/\")\n",
    "                )\n",
    "            ),\n",
    "            # related works\n",
    "            (\n",
    "                pl.col(\"related_works\").list.eval(\n",
    "                    pl.element().str.strip_prefix(\"https://openalex.org/\")\n",
    "                )\n",
    "            ),\n",
    "            # concepts\n",
    "            (\n",
    "                pl.col(\"concepts\").list.eval(\n",
    "                    pl.element().struct.with_fields(\n",
    "                        pl.field(\"id\").str.strip_prefix(\"https://openalex.org/\")\n",
    "                    )\n",
    "                )\n",
    "            ),\n",
    "        )\n",
    "    )"
   ]
  },
  {
   "cell_type": "code",
   "execution_count": 5,
   "id": "051917a2",
   "metadata": {},
   "outputs": [
    {
     "name": "stderr",
     "output_type": "stream",
     "text": [
      "file 1/1: 100%|██████████| 22/22 [00:16<00:00,  1.31it/s]\n"
     ]
    }
   ],
   "source": [
    "import os\n",
    "import time\n",
    "from tqdm import tqdm\n",
    "\n",
    "\n",
    "data = []\n",
    "\n",
    "\n",
    "files = [\n",
    "    \"part_000\"\n",
    "]\n",
    "\n",
    "for index, file in enumerate(files):\n",
    "    lf = get_frame(file)\n",
    "    for comp_level in tqdm(range(1, 23), desc=f\"file {index + 1}/{len(files)}\"):\n",
    "        time_start = time.time_ns()\n",
    "        lf.sink_parquet(\n",
    "            f\"sample/{file}@{comp_level}.parquet\",\n",
    "            compression=\"zstd\",\n",
    "            compression_level=comp_level,\n",
    "        )\n",
    "        time_end = time.time_ns()\n",
    "        byte_size = os.path.getsize(f\"sample/{file}@{comp_level}.parquet\")\n",
    "        time_elapsed = time_end - time_start\n",
    "        data.append(\n",
    "            {\"size\": byte_size, \"time\": time_elapsed, \"level\": comp_level, \"file\": file}\n",
    "        )\n",
    "        os.remove(f\"sample/{file}@{comp_level}.parquet\")"
   ]
  },
  {
   "cell_type": "code",
   "execution_count": 6,
   "id": "34d3fd7a",
   "metadata": {},
   "outputs": [],
   "source": [
    "df = (\n",
    "    pl.DataFrame(data)\n",
    "    .group_by(pl.col(\"level\"))\n",
    "    .agg(pl.mean(\"time\"), pl.mean(\"size\"))\n",
    "    .sort(pl.col(\"level\"))\n",
    "    .to_pandas()\n",
    ")"
   ]
  },
  {
   "cell_type": "code",
   "execution_count": 7,
   "id": "ec6f58ba",
   "metadata": {},
   "outputs": [
    {
     "data": {
      "application/vnd.plotly.v1+json": {
       "config": {
        "plotlyServerURL": "https://plot.ly"
       },
       "data": [
        {
         "hovertemplate": "<b>Level</b>: %{x}<br><b>Value</b>: %{y}<extra></extra>",
         "line": {
          "color": "blue"
         },
         "mode": "lines+markers+text",
         "name": "File Size",
         "text": [
          "1",
          "2",
          "3",
          "4",
          "5",
          "6",
          "7",
          "8",
          "9",
          "10",
          "11",
          "12",
          "13",
          "14",
          "15",
          "16",
          "17",
          "18",
          "19",
          "20",
          "21",
          "22"
         ],
         "textfont": {
          "size": 10
         },
         "textposition": "top center",
         "type": "scatter",
         "x": {
          "bdata": "AQIDBAUGBwgJCgsMDQ4PEBESExQVFg==",
          "dtype": "i1"
         },
         "xaxis": "x",
         "y": {
          "bdata": "AAAAgIqiSEEAAACAYN1GQQAAAIAtVEZBAAAAAPr0RUEAAACAX/5EQQAAAIANhkRBAAAAAF9BREEAAAAAtwlEQQAAAADYAkRBAAAAAArUQ0EAAAAAN7NDQQAAAIAUs0NBAAAAgK+XQ0EAAAAA+3hDQQAAAADBbUNBAAAAgFYAQkEAAAAAl9NBQQAAAIBA+UFBAAAAgOzhQUEAAAAA8uFBQQAAAABd4UFBAAAAADjhQUE=",
          "dtype": "f8"
         },
         "yaxis": "y"
        },
        {
         "hovertemplate": "<b>Level</b>: %{x}<br><b>Value</b>: %{y}<extra></extra>",
         "line": {
          "color": "red"
         },
         "mode": "lines+markers+text",
         "name": "Compression Time",
         "text": [
          "1",
          "2",
          "3",
          "4",
          "5",
          "6",
          "7",
          "8",
          "9",
          "10",
          "11",
          "12",
          "13",
          "14",
          "15",
          "16",
          "17",
          "18",
          "19",
          "20",
          "21",
          "22"
         ],
         "textfont": {
          "size": 10
         },
         "textposition": "top center",
         "type": "scatter",
         "x": {
          "bdata": "AQIDBAUGBwgJCgsMDQ4PEBESExQVFg==",
          "dtype": "i1"
         },
         "xaxis": "x2",
         "y": {
          "bdata": "AAAALG8IxkEAAABYRvXBQQAAAPAEkr5BAAAAQADdvkEAAABoHd6+QQAAAOxUOsFBAAAAzD4NwEEAAAD4IYa+QQAAAAhn+L9BAAAA0FdjwEEAAAC8sRfBQQAAANQyXsNBAAAAVA0zxkEAAABMYU3EQQAAAMyAZ8RBAAAAuDKKzEEAAABwN6zKQQAAAFQYk85BAAAAzA/60EEAAACWolTTQQAAAF7pJ9NBAAAA4pry0kE=",
          "dtype": "f8"
         },
         "yaxis": "y2"
        }
       ],
       "layout": {
        "annotations": [
         {
          "font": {
           "size": 16
          },
          "showarrow": false,
          "text": "File Size vs Compression Level",
          "x": 0.5,
          "xanchor": "center",
          "xref": "paper",
          "y": 1,
          "yanchor": "bottom",
          "yref": "paper"
         },
         {
          "font": {
           "size": 16
          },
          "showarrow": false,
          "text": "Compression Time vs Compression Level",
          "x": 0.5,
          "xanchor": "center",
          "xref": "paper",
          "y": 0.45,
          "yanchor": "bottom",
          "yref": "paper"
         }
        ],
        "height": 700,
        "hovermode": "x unified",
        "legend": {
         "orientation": "h",
         "x": 1,
         "xanchor": "right",
         "y": 1.02,
         "yanchor": "bottom"
        },
        "template": {
         "data": {
          "bar": [
           {
            "error_x": {
             "color": "#2a3f5f"
            },
            "error_y": {
             "color": "#2a3f5f"
            },
            "marker": {
             "line": {
              "color": "white",
              "width": 0.5
             },
             "pattern": {
              "fillmode": "overlay",
              "size": 10,
              "solidity": 0.2
             }
            },
            "type": "bar"
           }
          ],
          "barpolar": [
           {
            "marker": {
             "line": {
              "color": "white",
              "width": 0.5
             },
             "pattern": {
              "fillmode": "overlay",
              "size": 10,
              "solidity": 0.2
             }
            },
            "type": "barpolar"
           }
          ],
          "carpet": [
           {
            "aaxis": {
             "endlinecolor": "#2a3f5f",
             "gridcolor": "#C8D4E3",
             "linecolor": "#C8D4E3",
             "minorgridcolor": "#C8D4E3",
             "startlinecolor": "#2a3f5f"
            },
            "baxis": {
             "endlinecolor": "#2a3f5f",
             "gridcolor": "#C8D4E3",
             "linecolor": "#C8D4E3",
             "minorgridcolor": "#C8D4E3",
             "startlinecolor": "#2a3f5f"
            },
            "type": "carpet"
           }
          ],
          "choropleth": [
           {
            "colorbar": {
             "outlinewidth": 0,
             "ticks": ""
            },
            "type": "choropleth"
           }
          ],
          "contour": [
           {
            "colorbar": {
             "outlinewidth": 0,
             "ticks": ""
            },
            "colorscale": [
             [
              0,
              "#0d0887"
             ],
             [
              0.1111111111111111,
              "#46039f"
             ],
             [
              0.2222222222222222,
              "#7201a8"
             ],
             [
              0.3333333333333333,
              "#9c179e"
             ],
             [
              0.4444444444444444,
              "#bd3786"
             ],
             [
              0.5555555555555556,
              "#d8576b"
             ],
             [
              0.6666666666666666,
              "#ed7953"
             ],
             [
              0.7777777777777778,
              "#fb9f3a"
             ],
             [
              0.8888888888888888,
              "#fdca26"
             ],
             [
              1,
              "#f0f921"
             ]
            ],
            "type": "contour"
           }
          ],
          "contourcarpet": [
           {
            "colorbar": {
             "outlinewidth": 0,
             "ticks": ""
            },
            "type": "contourcarpet"
           }
          ],
          "heatmap": [
           {
            "colorbar": {
             "outlinewidth": 0,
             "ticks": ""
            },
            "colorscale": [
             [
              0,
              "#0d0887"
             ],
             [
              0.1111111111111111,
              "#46039f"
             ],
             [
              0.2222222222222222,
              "#7201a8"
             ],
             [
              0.3333333333333333,
              "#9c179e"
             ],
             [
              0.4444444444444444,
              "#bd3786"
             ],
             [
              0.5555555555555556,
              "#d8576b"
             ],
             [
              0.6666666666666666,
              "#ed7953"
             ],
             [
              0.7777777777777778,
              "#fb9f3a"
             ],
             [
              0.8888888888888888,
              "#fdca26"
             ],
             [
              1,
              "#f0f921"
             ]
            ],
            "type": "heatmap"
           }
          ],
          "histogram": [
           {
            "marker": {
             "pattern": {
              "fillmode": "overlay",
              "size": 10,
              "solidity": 0.2
             }
            },
            "type": "histogram"
           }
          ],
          "histogram2d": [
           {
            "colorbar": {
             "outlinewidth": 0,
             "ticks": ""
            },
            "colorscale": [
             [
              0,
              "#0d0887"
             ],
             [
              0.1111111111111111,
              "#46039f"
             ],
             [
              0.2222222222222222,
              "#7201a8"
             ],
             [
              0.3333333333333333,
              "#9c179e"
             ],
             [
              0.4444444444444444,
              "#bd3786"
             ],
             [
              0.5555555555555556,
              "#d8576b"
             ],
             [
              0.6666666666666666,
              "#ed7953"
             ],
             [
              0.7777777777777778,
              "#fb9f3a"
             ],
             [
              0.8888888888888888,
              "#fdca26"
             ],
             [
              1,
              "#f0f921"
             ]
            ],
            "type": "histogram2d"
           }
          ],
          "histogram2dcontour": [
           {
            "colorbar": {
             "outlinewidth": 0,
             "ticks": ""
            },
            "colorscale": [
             [
              0,
              "#0d0887"
             ],
             [
              0.1111111111111111,
              "#46039f"
             ],
             [
              0.2222222222222222,
              "#7201a8"
             ],
             [
              0.3333333333333333,
              "#9c179e"
             ],
             [
              0.4444444444444444,
              "#bd3786"
             ],
             [
              0.5555555555555556,
              "#d8576b"
             ],
             [
              0.6666666666666666,
              "#ed7953"
             ],
             [
              0.7777777777777778,
              "#fb9f3a"
             ],
             [
              0.8888888888888888,
              "#fdca26"
             ],
             [
              1,
              "#f0f921"
             ]
            ],
            "type": "histogram2dcontour"
           }
          ],
          "mesh3d": [
           {
            "colorbar": {
             "outlinewidth": 0,
             "ticks": ""
            },
            "type": "mesh3d"
           }
          ],
          "parcoords": [
           {
            "line": {
             "colorbar": {
              "outlinewidth": 0,
              "ticks": ""
             }
            },
            "type": "parcoords"
           }
          ],
          "pie": [
           {
            "automargin": true,
            "type": "pie"
           }
          ],
          "scatter": [
           {
            "fillpattern": {
             "fillmode": "overlay",
             "size": 10,
             "solidity": 0.2
            },
            "type": "scatter"
           }
          ],
          "scatter3d": [
           {
            "line": {
             "colorbar": {
              "outlinewidth": 0,
              "ticks": ""
             }
            },
            "marker": {
             "colorbar": {
              "outlinewidth": 0,
              "ticks": ""
             }
            },
            "type": "scatter3d"
           }
          ],
          "scattercarpet": [
           {
            "marker": {
             "colorbar": {
              "outlinewidth": 0,
              "ticks": ""
             }
            },
            "type": "scattercarpet"
           }
          ],
          "scattergeo": [
           {
            "marker": {
             "colorbar": {
              "outlinewidth": 0,
              "ticks": ""
             }
            },
            "type": "scattergeo"
           }
          ],
          "scattergl": [
           {
            "marker": {
             "colorbar": {
              "outlinewidth": 0,
              "ticks": ""
             }
            },
            "type": "scattergl"
           }
          ],
          "scattermap": [
           {
            "marker": {
             "colorbar": {
              "outlinewidth": 0,
              "ticks": ""
             }
            },
            "type": "scattermap"
           }
          ],
          "scattermapbox": [
           {
            "marker": {
             "colorbar": {
              "outlinewidth": 0,
              "ticks": ""
             }
            },
            "type": "scattermapbox"
           }
          ],
          "scatterpolar": [
           {
            "marker": {
             "colorbar": {
              "outlinewidth": 0,
              "ticks": ""
             }
            },
            "type": "scatterpolar"
           }
          ],
          "scatterpolargl": [
           {
            "marker": {
             "colorbar": {
              "outlinewidth": 0,
              "ticks": ""
             }
            },
            "type": "scatterpolargl"
           }
          ],
          "scatterternary": [
           {
            "marker": {
             "colorbar": {
              "outlinewidth": 0,
              "ticks": ""
             }
            },
            "type": "scatterternary"
           }
          ],
          "surface": [
           {
            "colorbar": {
             "outlinewidth": 0,
             "ticks": ""
            },
            "colorscale": [
             [
              0,
              "#0d0887"
             ],
             [
              0.1111111111111111,
              "#46039f"
             ],
             [
              0.2222222222222222,
              "#7201a8"
             ],
             [
              0.3333333333333333,
              "#9c179e"
             ],
             [
              0.4444444444444444,
              "#bd3786"
             ],
             [
              0.5555555555555556,
              "#d8576b"
             ],
             [
              0.6666666666666666,
              "#ed7953"
             ],
             [
              0.7777777777777778,
              "#fb9f3a"
             ],
             [
              0.8888888888888888,
              "#fdca26"
             ],
             [
              1,
              "#f0f921"
             ]
            ],
            "type": "surface"
           }
          ],
          "table": [
           {
            "cells": {
             "fill": {
              "color": "#EBF0F8"
             },
             "line": {
              "color": "white"
             }
            },
            "header": {
             "fill": {
              "color": "#C8D4E3"
             },
             "line": {
              "color": "white"
             }
            },
            "type": "table"
           }
          ]
         },
         "layout": {
          "annotationdefaults": {
           "arrowcolor": "#2a3f5f",
           "arrowhead": 0,
           "arrowwidth": 1
          },
          "autotypenumbers": "strict",
          "coloraxis": {
           "colorbar": {
            "outlinewidth": 0,
            "ticks": ""
           }
          },
          "colorscale": {
           "diverging": [
            [
             0,
             "#8e0152"
            ],
            [
             0.1,
             "#c51b7d"
            ],
            [
             0.2,
             "#de77ae"
            ],
            [
             0.3,
             "#f1b6da"
            ],
            [
             0.4,
             "#fde0ef"
            ],
            [
             0.5,
             "#f7f7f7"
            ],
            [
             0.6,
             "#e6f5d0"
            ],
            [
             0.7,
             "#b8e186"
            ],
            [
             0.8,
             "#7fbc41"
            ],
            [
             0.9,
             "#4d9221"
            ],
            [
             1,
             "#276419"
            ]
           ],
           "sequential": [
            [
             0,
             "#0d0887"
            ],
            [
             0.1111111111111111,
             "#46039f"
            ],
            [
             0.2222222222222222,
             "#7201a8"
            ],
            [
             0.3333333333333333,
             "#9c179e"
            ],
            [
             0.4444444444444444,
             "#bd3786"
            ],
            [
             0.5555555555555556,
             "#d8576b"
            ],
            [
             0.6666666666666666,
             "#ed7953"
            ],
            [
             0.7777777777777778,
             "#fb9f3a"
            ],
            [
             0.8888888888888888,
             "#fdca26"
            ],
            [
             1,
             "#f0f921"
            ]
           ],
           "sequentialminus": [
            [
             0,
             "#0d0887"
            ],
            [
             0.1111111111111111,
             "#46039f"
            ],
            [
             0.2222222222222222,
             "#7201a8"
            ],
            [
             0.3333333333333333,
             "#9c179e"
            ],
            [
             0.4444444444444444,
             "#bd3786"
            ],
            [
             0.5555555555555556,
             "#d8576b"
            ],
            [
             0.6666666666666666,
             "#ed7953"
            ],
            [
             0.7777777777777778,
             "#fb9f3a"
            ],
            [
             0.8888888888888888,
             "#fdca26"
            ],
            [
             1,
             "#f0f921"
            ]
           ]
          },
          "colorway": [
           "#636efa",
           "#EF553B",
           "#00cc96",
           "#ab63fa",
           "#FFA15A",
           "#19d3f3",
           "#FF6692",
           "#B6E880",
           "#FF97FF",
           "#FECB52"
          ],
          "font": {
           "color": "#2a3f5f"
          },
          "geo": {
           "bgcolor": "white",
           "lakecolor": "white",
           "landcolor": "white",
           "showlakes": true,
           "showland": true,
           "subunitcolor": "#C8D4E3"
          },
          "hoverlabel": {
           "align": "left"
          },
          "hovermode": "closest",
          "mapbox": {
           "style": "light"
          },
          "paper_bgcolor": "white",
          "plot_bgcolor": "white",
          "polar": {
           "angularaxis": {
            "gridcolor": "#EBF0F8",
            "linecolor": "#EBF0F8",
            "ticks": ""
           },
           "bgcolor": "white",
           "radialaxis": {
            "gridcolor": "#EBF0F8",
            "linecolor": "#EBF0F8",
            "ticks": ""
           }
          },
          "scene": {
           "xaxis": {
            "backgroundcolor": "white",
            "gridcolor": "#DFE8F3",
            "gridwidth": 2,
            "linecolor": "#EBF0F8",
            "showbackground": true,
            "ticks": "",
            "zerolinecolor": "#EBF0F8"
           },
           "yaxis": {
            "backgroundcolor": "white",
            "gridcolor": "#DFE8F3",
            "gridwidth": 2,
            "linecolor": "#EBF0F8",
            "showbackground": true,
            "ticks": "",
            "zerolinecolor": "#EBF0F8"
           },
           "zaxis": {
            "backgroundcolor": "white",
            "gridcolor": "#DFE8F3",
            "gridwidth": 2,
            "linecolor": "#EBF0F8",
            "showbackground": true,
            "ticks": "",
            "zerolinecolor": "#EBF0F8"
           }
          },
          "shapedefaults": {
           "line": {
            "color": "#2a3f5f"
           }
          },
          "ternary": {
           "aaxis": {
            "gridcolor": "#DFE8F3",
            "linecolor": "#A2B1C6",
            "ticks": ""
           },
           "baxis": {
            "gridcolor": "#DFE8F3",
            "linecolor": "#A2B1C6",
            "ticks": ""
           },
           "bgcolor": "white",
           "caxis": {
            "gridcolor": "#DFE8F3",
            "linecolor": "#A2B1C6",
            "ticks": ""
           }
          },
          "title": {
           "x": 0.05
          },
          "xaxis": {
           "automargin": true,
           "gridcolor": "#EBF0F8",
           "linecolor": "#EBF0F8",
           "ticks": "",
           "title": {
            "standoff": 15
           },
           "zerolinecolor": "#EBF0F8",
           "zerolinewidth": 2
          },
          "yaxis": {
           "automargin": true,
           "gridcolor": "#EBF0F8",
           "linecolor": "#EBF0F8",
           "ticks": "",
           "title": {
            "standoff": 15
           },
           "zerolinecolor": "#EBF0F8",
           "zerolinewidth": 2
          }
         }
        },
        "title": {
         "text": "Compression Statistics by Compression Level"
        },
        "xaxis": {
         "anchor": "y",
         "domain": [
          0,
          1
         ],
         "matches": "x2",
         "showticklabels": false
        },
        "xaxis2": {
         "anchor": "y2",
         "domain": [
          0,
          1
         ],
         "title": {
          "text": "Compression Level"
         }
        },
        "yaxis": {
         "anchor": "x",
         "domain": [
          0.55,
          1
         ],
         "title": {
          "text": "File Size"
         }
        },
        "yaxis2": {
         "anchor": "x2",
         "domain": [
          0,
          0.45
         ],
         "title": {
          "text": "Compression Time (ns)"
         }
        }
       }
      }
     },
     "metadata": {},
     "output_type": "display_data"
    }
   ],
   "source": [
    "import plotly.graph_objects as go\n",
    "from plotly.subplots import make_subplots\n",
    "\n",
    "fig = make_subplots(\n",
    "    rows=2,\n",
    "    cols=1,\n",
    "    shared_xaxes=True,\n",
    "    vertical_spacing=0.1,\n",
    "    subplot_titles=(\n",
    "        \"File Size vs Compression Level\",\n",
    "        \"Compression Time vs Compression Level\",\n",
    "    ),\n",
    ")\n",
    "\n",
    "\n",
    "fig.add_trace(\n",
    "    go.Scatter(\n",
    "        x=df[\"level\"],\n",
    "        y=df[\"size\"],\n",
    "        mode=\"lines+markers+text\",\n",
    "        name=\"File Size\",\n",
    "        line=dict(color=\"blue\"),\n",
    "        text=df[\"level\"].astype(str),\n",
    "        textposition=\"top center\",\n",
    "        textfont=dict(size=10),\n",
    "    ),\n",
    "    row=1,\n",
    "    col=1,\n",
    ")\n",
    "\n",
    "\n",
    "fig.add_trace(\n",
    "    go.Scatter(\n",
    "        x=df[\"level\"],\n",
    "        y=df[\"time\"],\n",
    "        mode=\"lines+markers+text\",\n",
    "        name=\"Compression Time\",\n",
    "        line=dict(color=\"red\"),\n",
    "        text=df[\"level\"].astype(str),\n",
    "        textposition=\"top center\",\n",
    "        textfont=dict(size=10),\n",
    "    ),\n",
    "    row=2,\n",
    "    col=1,\n",
    ")\n",
    "\n",
    "\n",
    "fig.update_layout(\n",
    "    title_text=\"Compression Statistics by Compression Level\",\n",
    "    height=700,\n",
    "    hovermode=\"x unified\",\n",
    "    template=\"plotly_white\",\n",
    "    legend=dict(orientation=\"h\", yanchor=\"bottom\", y=1.02, xanchor=\"right\", x=1),\n",
    ")\n",
    "\n",
    "\n",
    "fig.update_traces(\n",
    "    hovertemplate=\"<b>Level</b>: %{x}<br><b>Value</b>: %{y}<extra></extra>\"\n",
    ")\n",
    "\n",
    "\n",
    "fig.update_xaxes(title_text=\"Compression Level\", row=2, col=1)\n",
    "fig.update_yaxes(title_text=\"File Size\", row=1, col=1)\n",
    "fig.update_yaxes(title_text=\"Compression Time (ns)\", row=2, col=1)\n",
    "\n",
    "\n",
    "fig.show()"
   ]
  }
 ],
 "metadata": {
  "kernelspec": {
   "display_name": ".venv",
   "language": "python",
   "name": "python3"
  },
  "language_info": {
   "codemirror_mode": {
    "name": "ipython",
    "version": 3
   },
   "file_extension": ".py",
   "mimetype": "text/x-python",
   "name": "python",
   "nbconvert_exporter": "python",
   "pygments_lexer": "ipython3",
   "version": "3.12.8"
  }
 },
 "nbformat": 4,
 "nbformat_minor": 5
}
