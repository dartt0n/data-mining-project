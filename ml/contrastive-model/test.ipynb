{
 "cells": [
  {
   "cell_type": "markdown",
   "source": [
    "# Imports"
   ],
   "metadata": {
    "collapsed": false
   },
   "id": "7a693073babdb474"
  },
  {
   "cell_type": "code",
   "execution_count": null,
   "outputs": [],
   "source": [
    "import torch\n",
    "import numpy as np\n",
    "from torch import nn\n",
    "from sklearn.metrics import accuracy_score, precision_score, recall_score, f1_score, roc_auc_score"
   ],
   "metadata": {
    "collapsed": false
   },
   "id": "9cd83a2b8f67de0e"
  },
  {
   "cell_type": "markdown",
   "source": [
    "# Model"
   ],
   "metadata": {
    "collapsed": false
   },
   "id": "3547750ca35774e"
  },
  {
   "cell_type": "code",
   "execution_count": 15,
   "id": "360ef3bd-cace-4570-9ef3-3cbfc086f478",
   "metadata": {},
   "outputs": [],
   "source": [
    "class Model(nn.Module):\n",
    "    def __init__(self, in_features, out_features):\n",
    "        super().__init__()\n",
    "        self.embedder = nn.Linear(in_features, out_features)\n",
    "    def forward(self, x):\n",
    "        x = self.embedder(x)\n",
    "        return x / (x ** 2).sum() ** 0.5"
   ]
  },
  {
   "cell_type": "markdown",
   "source": [
    "# Test sample from dataset"
   ],
   "metadata": {
    "collapsed": false
   },
   "id": "ad522cd996ee3a4f"
  },
  {
   "cell_type": "code",
   "execution_count": 16,
   "id": "de07494b-3e4e-4a3b-857c-f8a7925eb8c0",
   "metadata": {},
   "outputs": [],
   "source": [
    "def generate_negatives(positive):\n",
    "    # chance of match ~ 0.0002%\n",
    "    return torch.randint(0, len(nodes), positive.shape).to('cuda')"
   ]
  },
  {
   "cell_type": "code",
   "execution_count": 25,
   "id": "8ddf2404-22bb-474e-8177-cd06a896a5c3",
   "metadata": {},
   "outputs": [],
   "source": [
    "nodes = torch.tensor(np.load('author_embeddings.npy')).to('cuda').float()\n",
    "positive = torch.tensor(np.load('edges.npy')).to('cuda').T\n",
    "\n",
    "positive = positive[torch.randperm(positive.size(0))][:100_000]\n",
    "negative = generate_negatives(positive)"
   ]
  },
  {
   "cell_type": "code",
   "execution_count": 26,
   "outputs": [],
   "source": [
    "model = Model(nodes.shape[-1], 128).to('cuda')\n",
    "model.load_state_dict(torch.load('model_weights.pth'))"
   ],
   "metadata": {
    "collapsed": false
   },
   "id": "a1b27975-1877-4894-9cf6-feafb401a50d"
  },
  {
   "cell_type": "markdown",
   "source": [
    "# Results"
   ],
   "metadata": {
    "collapsed": false
   },
   "id": "df30fd58cc28b3dd"
  },
  {
   "cell_type": "code",
   "execution_count": 27,
   "id": "87bc00c7-18a1-4510-9a02-d4fc4b958335",
   "metadata": {},
   "outputs": [
    {
     "name": "stdout",
     "output_type": "stream",
     "text": [
      "Accuracy:  0.5510\n",
      "Precision: 0.5423\n",
      "Recall:    0.6538\n",
      "F1-Score:  0.5929\n",
      "ROC-AUC:   0.5681\n"
     ]
    }
   ],
   "source": [
    "inp = torch.cat((positive, negative))\n",
    "out = torch.cat((torch.ones(positive.shape[0]), torch.zeros(positive.shape[0]))).to('cuda')\n",
    "\n",
    "idx = torch.randperm(inp.size(0))\n",
    "inp = inp[idx]\n",
    "out = out[idx]\n",
    "\n",
    "a, b = nodes[inp[:, 0]], nodes[inp[:, 1]]\n",
    "a, b = model(a), model(b)\n",
    "\n",
    "res = ((a * b).sum(axis=-1) + 1) / 2\n",
    "lbl = (res > 0.5).float()\n",
    "\n",
    "out = out.cpu().detach().numpy()\n",
    "res = res.cpu().detach().numpy()\n",
    "lbl = lbl.cpu().detach().numpy()\n",
    "\n",
    "accuracy = accuracy_score(out, lbl)\n",
    "precision = precision_score(out, lbl)\n",
    "recall = recall_score(out, lbl)\n",
    "f1 = f1_score(out, lbl)\n",
    "roc_auc = roc_auc_score(out, res)\n",
    "\n",
    "print(f\"Accuracy:  {accuracy:.4f}\")\n",
    "print(f\"Precision: {precision:.4f}\")\n",
    "print(f\"Recall:    {recall:.4f}\")\n",
    "print(f\"F1-Score:  {f1:.4f}\")\n",
    "print(f\"ROC-AUC:   {roc_auc:.4f}\")"
   ]
  }
 ],
 "metadata": {
  "kernelspec": {
   "display_name": "Python 3 (ipykernel)",
   "language": "python",
   "name": "python3"
  },
  "language_info": {
   "codemirror_mode": {
    "name": "ipython",
    "version": 3
   },
   "file_extension": ".py",
   "mimetype": "text/x-python",
   "name": "python",
   "nbconvert_exporter": "python",
   "pygments_lexer": "ipython3",
   "version": "3.11.9"
  }
 },
 "nbformat": 4,
 "nbformat_minor": 5
}
