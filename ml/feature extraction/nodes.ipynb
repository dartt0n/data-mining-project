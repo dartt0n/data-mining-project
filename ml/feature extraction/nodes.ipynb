{
 "cells": [
  {
   "cell_type": "markdown",
   "source": [
    "# Imports"
   ],
   "metadata": {
    "collapsed": false
   },
   "id": "9112605cac7551db"
  },
  {
   "cell_type": "code",
   "execution_count": null,
   "outputs": [],
   "source": [
    "import polars as pl\n",
    "import numpy as np\n",
    "from json import dump"
   ],
   "metadata": {
    "collapsed": false
   },
   "id": "f87468cda280c7af"
  },
  {
   "cell_type": "markdown",
   "source": [
    "# Read data"
   ],
   "metadata": {
    "collapsed": false
   },
   "id": "6ed5f5755f1a3d86"
  },
  {
   "cell_type": "code",
   "execution_count": 2,
   "outputs": [],
   "source": [
    "df = pl.read_parquet(\"home/ubuntu/sample\")"
   ],
   "metadata": {
    "collapsed": false,
    "ExecuteTime": {
     "end_time": "2025-05-11T15:51:21.002342100Z",
     "start_time": "2025-05-11T15:51:19.634253100Z"
    }
   },
   "id": "cf90f937beccdd05"
  },
  {
   "cell_type": "code",
   "execution_count": 3,
   "outputs": [],
   "source": [
    "df = df[['authors', 'topics', 'high_concepts_flat']]"
   ],
   "metadata": {
    "collapsed": false,
    "ExecuteTime": {
     "end_time": "2025-05-11T15:51:21.025911300Z",
     "start_time": "2025-05-11T15:51:21.003343600Z"
    }
   },
   "id": "5bb293782ae81efa"
  },
  {
   "cell_type": "markdown",
   "source": [
    "# Read preprocessed concept embeddings"
   ],
   "metadata": {
    "collapsed": false
   },
   "id": "b00faa123942f2d9"
  },
  {
   "cell_type": "code",
   "execution_count": 4,
   "outputs": [
    {
     "data": {
      "text/plain": "(1031781, 312)"
     },
     "execution_count": 4,
     "metadata": {},
     "output_type": "execute_result"
    }
   ],
   "source": [
    "concepts = np.load('concepts.npy')\n",
    "concepts.shape"
   ],
   "metadata": {
    "collapsed": false,
    "ExecuteTime": {
     "end_time": "2025-05-11T15:51:22.964918600Z",
     "start_time": "2025-05-11T15:51:21.662906Z"
    }
   },
   "id": "856c3d30059dffdb"
  },
  {
   "cell_type": "markdown",
   "source": [
    "# Node embeddings extraction"
   ],
   "metadata": {
    "collapsed": false
   },
   "id": "ec692a357ce834e5"
  },
  {
   "cell_type": "code",
   "execution_count": 5,
   "outputs": [],
   "source": [
    "authors = {}\n",
    "topics = {}\n",
    "countries = {}"
   ],
   "metadata": {
    "collapsed": false,
    "ExecuteTime": {
     "end_time": "2025-05-11T15:51:23.555074300Z",
     "start_time": "2025-05-11T15:51:23.544073600Z"
    }
   },
   "id": "259183691fa6a177"
  },
  {
   "cell_type": "code",
   "execution_count": 6,
   "outputs": [
    {
     "data": {
      "text/plain": "3"
     },
     "execution_count": 6,
     "metadata": {},
     "output_type": "execute_result"
    }
   ],
   "source": [
    "for i, concept in zip(df.iter_rows(), concepts):\n",
    "    for author in i[0]:\n",
    "        if author['id'] not in authors:\n",
    "            authors[author['id']] = {'id': len(authors), 'topics': set(), 'concepts': [], 'countries': set()}\n",
    "        authors[author['id']]['concepts'].append(concept)\n",
    "        for institution in author['institutions']:\n",
    "            if institution['country'] not in countries:\n",
    "                countries[institution['country']] = len(countries)\n",
    "            authors[author['id']]['countries'].add(countries[institution['country']])\n",
    "        if i[1] is not None:\n",
    "            for topic in i[1]:\n",
    "                if topic['field'] not in topics:\n",
    "                    topics[topic['field']] = len(topics)\n",
    "                authors[author['id']]['topics'].add(topics[topic['field']])\n",
    "len(authors['/A5056295479']['concepts'])"
   ],
   "metadata": {
    "collapsed": false,
    "ExecuteTime": {
     "end_time": "2025-05-11T15:52:24.992315Z",
     "start_time": "2025-05-11T15:51:26.386106200Z"
    }
   },
   "id": "4e93ff7151d8a897"
  },
  {
   "cell_type": "code",
   "execution_count": 7,
   "outputs": [
    {
     "data": {
      "text/plain": "{'concepts': array([-2.59943515e-01,  1.44795969e-01, -1.54523375e-02,  1.89175561e-01,\n         2.54683822e-01, -2.13728502e-01,  4.02246378e-02,  1.93462387e-01,\n         2.23417535e-01,  5.95416538e-02,  1.16616763e-01,  7.62125775e-02,\n         3.31325859e-01,  2.91074008e-01,  4.55036275e-02,  3.45543474e-01,\n        -1.52431369e-01, -2.22207621e-01, -1.95779249e-01,  2.26351902e-01,\n         1.42640159e-01,  5.64255603e-02,  1.35495439e-01, -1.00458600e-01,\n         4.27240320e-02, -1.15140535e-01, -1.48380518e-01,  2.78179079e-01,\n         1.47552667e-02,  6.68614432e-02, -3.15055735e-02,  6.66925088e-02,\n         5.85699677e-01,  3.34749013e-01, -9.04444698e-03, -2.33284876e-01,\n         3.60989906e-02,  2.10040927e-01,  6.02730364e-02,  5.43373264e-02,\n         3.80111188e-01,  4.14391495e-02, -6.82968572e-02,  2.46995106e-01,\n        -4.09442902e-01, -1.80831060e-01, -2.43959442e-01, -5.35451137e-02,\n        -1.78514823e-01, -1.99130833e-01, -2.91202012e-02,  3.36082950e-02,\n         3.41843888e-02,  3.04541469e-01,  1.18023828e-02, -2.77920127e-01,\n         6.01742089e-01,  2.69695282e-01,  2.53052324e-01, -1.88736245e-01,\n        -2.26122692e-01,  1.04816884e-01,  1.01350723e-02,  3.59472007e-01,\n        -9.53767002e-02, -5.05687356e-01,  2.93848008e-01,  2.31889844e-01,\n         1.47234395e-01, -1.76840890e-02, -3.87975216e-01,  3.81503344e-01,\n        -1.49765313e-01,  1.15426444e-01, -2.28792310e-01,  3.62188697e-01,\n         3.91134977e-01, -2.62875080e-01,  2.24027559e-01,  6.03918731e-02,\n        -2.92983949e-02, -2.23101735e-01,  1.22880913e-01, -1.78036228e-01,\n         5.27623236e-01,  1.53098404e-01,  8.10083225e-02,  1.49842007e-02,\n        -3.05232972e-01, -1.27685919e-01,  1.44369826e-01,  2.07181145e-02,\n         1.03477621e+00,  1.22594796e-01,  6.68728277e-02,  7.74394199e-02,\n         1.34016052e-01,  4.73675460e-01,  5.94619848e-02,  2.87032962e-01,\n         1.45509019e-01,  6.94524825e-01,  7.61949783e-03,  3.11056618e-02,\n        -7.59112462e-02,  6.57339767e-02, -1.64752379e-01, -1.25298217e-01,\n         1.11916006e-01, -1.42248958e-01,  1.58932954e-02,  3.23823422e-01,\n         1.50205567e-01,  1.45090157e-02, -5.52322686e-01,  6.14840984e-02,\n        -1.00893639e-01, -1.90425739e-01, -1.65419355e-01,  4.05872375e-01,\n         1.84356093e-01,  2.79733181e-01, -1.29448250e-01,  4.89753753e-01,\n         3.75090800e-02, -6.29095316e-01, -1.03070654e-01, -3.25701207e-01,\n         2.21508145e-01,  1.64225474e-01, -4.15880382e-02,  1.24490924e-01,\n         2.51322508e-01, -7.94874057e-02, -1.25915393e-01,  2.82966614e-01,\n         2.22811580e+00, -8.51482973e-02, -1.28030866e-01, -1.12645097e-01,\n        -1.73511088e-01, -8.08246732e-02, -3.77755496e-03,  1.90697536e-01,\n         1.39413923e-01, -7.06583553e-04,  2.88954616e-01, -4.00303490e-02,\n        -1.65241838e-01, -2.42423788e-02,  1.33307844e-01,  2.33653381e-01,\n         8.38191733e-02, -2.06711426e-01,  2.34471560e-01,  2.99943477e-01,\n        -1.20465189e-01,  3.81763130e-01, -7.74920806e-02, -3.38433981e-02,\n         1.46450639e-01, -7.37629980e-02, -3.18970834e-03,  1.27651751e-01,\n         2.55386472e-01,  4.22355197e-02,  2.60457307e-01, -2.62143910e-01,\n         1.52150080e-01, -1.67851746e-01,  3.02182883e-02,  9.63281021e-02,\n         2.47212842e-01, -6.23198636e-02,  1.64103940e-01, -1.52918071e-01,\n        -1.47350729e-02, -2.14694381e-01,  2.94773221e-01, -4.45970595e-02,\n         2.82351762e-01, -2.60587841e-01,  2.55924940e-01, -1.89326420e-01,\n         2.26764992e-01,  1.56150700e-03, -2.22267136e-01,  2.07620282e-02,\n        -2.34288573e-01,  3.62609714e-01,  2.31916115e-01, -5.17082252e-02,\n        -2.34903768e-01, -1.54608905e-01, -3.95404249e-01,  4.89128083e-02,\n        -9.59730148e-03,  3.02243028e-02,  2.86020994e-01, -2.68668622e-01,\n        -2.54929274e-01,  1.40575588e-01,  1.71287134e-01,  1.78080633e-01,\n        -2.71033701e-02, -9.29610431e-02, -2.00001691e-02,  2.16859147e-01,\n        -2.74758369e-01,  4.96584177e-02,  6.02274621e-03, -1.30361497e-01,\n        -1.99448705e-01,  6.22535236e-02,  3.36893611e-02,  2.45337710e-01,\n         1.21265329e-01,  4.60889846e-01,  1.47990122e-01,  2.74273574e-01,\n         8.63847062e-02, -9.14123952e-02,  7.33500496e-02,  1.03227787e-01,\n         7.64345527e-02, -2.59876966e-01,  1.31666124e-01,  2.09384009e-01,\n        -1.29115721e-02, -1.81394771e-01,  6.34601712e-02,  5.71122348e-01,\n        -1.21460140e-01,  9.64183286e-02,  3.23680758e-01, -8.51001740e-02,\n         3.34713608e-02, -2.79248029e-01,  2.95670599e-01,  4.60093021e-01,\n        -4.57816648e+00, -5.38101614e-01,  3.10624808e-01,  2.18381882e-01,\n         1.32143438e-01,  3.60446386e-02,  9.01061296e-02,  1.84834108e-01,\n        -7.77696148e-02,  2.81491488e-01, -1.78401962e-01, -5.69380308e-03,\n        -2.86346018e-01,  8.41054022e-02,  4.11764979e-02, -4.85984087e-01,\n         9.59122404e-02, -7.42263123e-02, -1.44464433e-01,  1.11105911e-01,\n         2.49485329e-01,  1.38473168e-01,  6.18241966e-01, -1.32651478e-02,\n        -1.49877608e-01, -1.22290395e-01, -1.33041069e-01, -3.26814204e-01,\n        -1.73715279e-01, -1.35958835e-01, -1.52786896e-01,  1.84836507e-01,\n         6.06531017e-02,  3.70536447e-02, -3.00451905e-01,  1.00108452e-01,\n         1.03744738e-01, -1.75448522e-01,  7.12056383e-02,  9.27178655e-03,\n         6.47613555e-02,  1.33097991e-01,  4.82624054e-01, -9.12263468e-02,\n         4.02249433e-02, -6.21810742e-02, -1.78393081e-01, -5.11338830e-01,\n         1.40214309e-01, -1.10286713e-01,  5.76082051e-01, -9.80912447e-02,\n         1.93616107e-01, -1.34972021e-01, -1.59994453e-01, -1.78457022e-01,\n         2.78401881e-01,  5.47379740e-02, -3.49081129e-01, -2.20808268e-01,\n        -8.15900713e-02,  2.54097819e-01, -3.48746896e-01,  3.52726251e-01,\n         4.30886716e-01,  2.69033819e-01,  4.70396519e-01, -3.35241929e-02,\n        -2.95096170e-02, -2.02213246e-02,  1.33456782e-01,  5.85935116e-02],\n       dtype=float32),\n 'topics': array([1., 0., 0., 0., 0., 0., 0., 1., 0., 1., 0., 0., 0., 0., 0., 0., 0.,\n        0., 0., 0., 0., 0., 0., 0., 0., 0.]),\n 'countries': array([0., 0., 0., 0., 0., 0., 0., 0., 0., 0., 0., 0., 0., 0., 0., 0., 0.,\n        0., 0., 0., 0., 0., 0., 0., 0., 0., 0., 0., 0., 0., 0., 0., 0., 0.,\n        0., 0., 0., 0., 0., 0., 0., 0., 0., 0., 0., 0., 0., 0., 0., 0., 0.,\n        0., 0., 0., 0., 0., 0., 0., 0., 0., 0., 0., 0., 0., 0., 0., 0., 0.,\n        0., 0., 0., 0., 0., 0., 0., 0., 0., 0., 0., 0., 0., 0., 0., 0., 0.,\n        0., 0., 0., 0., 0., 0., 0., 0., 0., 0., 0., 0., 0., 0., 0., 0., 0.,\n        0., 0., 0., 0., 0., 0., 0., 0., 0., 0., 0., 0., 0., 0., 0., 0., 0.,\n        0., 0., 0., 0., 0., 0., 0., 0., 0., 0., 0., 0., 0., 0., 0., 0., 0.,\n        0., 0., 0., 0., 0., 0., 0., 0., 0., 0., 0., 0., 0., 0., 0., 0., 0.,\n        0., 0., 0., 0., 0., 0., 0., 0., 0., 0., 0., 0., 0., 0., 0., 0., 0.,\n        0., 0., 0., 0., 0., 0., 0., 0., 0., 0., 0., 0., 0., 0., 0., 0., 0.,\n        0., 0., 0., 0., 0., 0., 0., 0., 0., 0., 0., 0., 0., 0., 0., 0., 0.,\n        0., 0., 0., 0., 0., 0., 0., 0., 0., 0., 0., 0., 0., 0., 0., 0., 0.])}"
     },
     "execution_count": 7,
     "metadata": {},
     "output_type": "execute_result"
    }
   ],
   "source": [
    "preproc = {author['id']: {'concepts': np.array(author['concepts']).mean(axis=0)} for author in authors.values()}\n",
    "for author in authors.values():\n",
    "    ID = author['id']\n",
    "\n",
    "    preproc[ID]['topics'] = np.zeros((len(topics),))\n",
    "    for k in author['topics']:\n",
    "        preproc[ID]['topics'][k] = 1\n",
    "\n",
    "    preproc[ID]['countries'] = np.zeros((len(countries),))\n",
    "    for k in author['countries']:\n",
    "        preproc[ID]['countries'][k] = 1\n",
    "\n",
    "preproc[0]"
   ],
   "metadata": {
    "collapsed": false,
    "ExecuteTime": {
     "end_time": "2025-05-10T18:39:36.847748300Z",
     "start_time": "2025-05-10T18:38:16.185618400Z"
    }
   },
   "id": "d2eed32b7eb9c9e"
  },
  {
   "cell_type": "code",
   "execution_count": 8,
   "outputs": [
    {
     "name": "stdout",
     "output_type": "stream",
     "text": [
      "(3244445, 559)\n"
     ]
    }
   ],
   "source": [
    "final = np.array(\n",
    "    [np.concatenate((values['concepts'], values['topics'], values['countries'])) for ID, values in preproc.items()])\n",
    "print(final.shape)"
   ],
   "metadata": {
    "collapsed": false,
    "ExecuteTime": {
     "end_time": "2025-05-10T18:44:43.956315900Z",
     "start_time": "2025-05-10T18:39:49.832312800Z"
    }
   },
   "id": "985af1427ba1b1b0"
  },
  {
   "cell_type": "markdown",
   "source": [
    "# Save final encodings"
   ],
   "metadata": {
    "collapsed": false
   },
   "id": "e549d6474d29d1d5"
  },
  {
   "cell_type": "code",
   "execution_count": 13,
   "outputs": [],
   "source": [
    "np.save('author_embeddings', final)"
   ],
   "metadata": {
    "collapsed": false,
    "ExecuteTime": {
     "end_time": "2025-05-10T19:05:59.190525200Z",
     "start_time": "2025-05-10T19:04:58.595472400Z"
    }
   },
   "id": "fefcd91d637a9480"
  },
  {
   "cell_type": "markdown",
   "source": [
    "# Save ids for countries and topics for future tests"
   ],
   "metadata": {
    "collapsed": false
   },
   "id": "f2efbc19f2897336"
  },
  {
   "cell_type": "code",
   "execution_count": null,
   "outputs": [],
   "source": [
    "with open('countries.json', 'w') as f:\n",
    "    dump(countries, f)\n",
    "with open('topics.json', 'w') as f:\n",
    "    dump(topics, f)"
   ],
   "metadata": {
    "collapsed": false
   },
   "id": "d44e85371251f53a"
  }
 ],
 "metadata": {
  "kernelspec": {
   "display_name": "Python 3",
   "language": "python",
   "name": "python3"
  },
  "language_info": {
   "codemirror_mode": {
    "name": "ipython",
    "version": 2
   },
   "file_extension": ".py",
   "mimetype": "text/x-python",
   "name": "python",
   "nbconvert_exporter": "python",
   "pygments_lexer": "ipython2",
   "version": "2.7.6"
  }
 },
 "nbformat": 4,
 "nbformat_minor": 5
}
