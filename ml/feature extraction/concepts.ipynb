{
 "cells": [
  {
   "cell_type": "markdown",
   "source": [
    "# Imports"
   ],
   "metadata": {
    "collapsed": false
   },
   "id": "149eee6e95fc2990"
  },
  {
   "cell_type": "code",
   "execution_count": null,
   "outputs": [],
   "source": [
    "import polars as pl\n",
    "from transformers import AutoTokenizer, AutoModel"
   ],
   "metadata": {
    "collapsed": false
   },
   "id": "a1f71835752cfbc1"
  },
  {
   "cell_type": "markdown",
   "source": [
    "# Load data"
   ],
   "metadata": {
    "collapsed": false
   },
   "id": "9be59d167f2c0e8d"
  },
  {
   "cell_type": "code",
   "execution_count": 2,
   "outputs": [],
   "source": [
    "df = pl.read_parquet(\"home/ubuntu/sample\")"
   ],
   "metadata": {
    "collapsed": false,
    "ExecuteTime": {
     "end_time": "2025-05-10T15:10:15.302091200Z",
     "start_time": "2025-05-10T15:10:14.055035600Z"
    }
   },
   "id": "deb678742d85e559"
  },
  {
   "cell_type": "markdown",
   "source": [
    "# Load model"
   ],
   "metadata": {
    "collapsed": false
   },
   "id": "19c3c08568a1c8e9"
  },
  {
   "cell_type": "code",
   "execution_count": 3,
   "outputs": [
    {
     "name": "stderr",
     "output_type": "stream",
     "text": [
      "C:\\Users\\Минтимер\\AppData\\Local\\Programs\\Python\\Python311\\Lib\\site-packages\\huggingface_hub\\file_download.py:1132: FutureWarning: `resume_download` is deprecated and will be removed in version 1.0.0. Downloads always resume when possible. If you want to force a new download, use `force_download=True`.\n",
      "  warnings.warn(\n"
     ]
    }
   ],
   "source": [
    "model_name = \"huawei-noah/TinyBERT_General_4L_312D\"\n",
    "tokenizer = AutoTokenizer.from_pretrained(model_name)\n",
    "model = AutoModel.from_pretrained(model_name).to('cuda')"
   ],
   "metadata": {
    "collapsed": false,
    "ExecuteTime": {
     "end_time": "2025-05-10T15:10:35.417297400Z",
     "start_time": "2025-05-10T15:10:29.656353100Z"
    }
   },
   "id": "a937c1d4932c3b77"
  },
  {
   "cell_type": "markdown",
   "source": [
    "# Embed concepts"
   ],
   "metadata": {
    "collapsed": false
   },
   "id": "bc2fb411253b73ba"
  },
  {
   "cell_type": "code",
   "execution_count": 5,
   "outputs": [
    {
     "name": "stdout",
     "output_type": "stream",
     "text": [
      "1000000\n",
      "1000500\n",
      "1001000\n",
      "1001500\n",
      "1002000\n",
      "1002500\n",
      "1003000\n",
      "1003500\n",
      "1004000\n",
      "1004500\n",
      "1005000\n",
      "1005500\n",
      "1006000\n",
      "1006500\n",
      "1007000\n",
      "1007500\n",
      "1008000\n",
      "1008500\n",
      "1009000\n",
      "1009500\n",
      "1010000\n",
      "1010500\n",
      "1011000\n",
      "1011500\n",
      "1012000\n",
      "1012500\n",
      "1013000\n",
      "1013500\n",
      "1014000\n",
      "1014500\n",
      "1015000\n",
      "1015500\n",
      "1016000\n",
      "1016500\n",
      "1017000\n",
      "1017500\n",
      "1018000\n",
      "1018500\n",
      "1019000\n",
      "1019500\n",
      "1020000\n",
      "1020500\n",
      "1021000\n",
      "1021500\n",
      "1022000\n",
      "1022500\n",
      "1023000\n",
      "1023500\n",
      "1024000\n",
      "1024500\n",
      "1025000\n",
      "1025500\n",
      "1026000\n",
      "1026500\n",
      "1027000\n",
      "1027500\n",
      "1028000\n",
      "1028500\n",
      "1029000\n",
      "1029500\n",
      "1030000\n",
      "1030500\n",
      "1031000\n",
      "1031500\n"
     ]
    }
   ],
   "source": [
    "import numpy as np\n",
    "for part in range(0, len(df['high_concepts_flat']), 200_000):\n",
    "    embs = []\n",
    "    for i in range(part, min(part + 200_000, len(df['high_concepts_flat'])), 500):\n",
    "        print(i)\n",
    "        sentences = list(df['high_concepts_flat'][i:i + 500])\n",
    "    \n",
    "        inputs = tokenizer(sentences, return_tensors=\"pt\", padding=True, truncation=True, max_length=128).to('cuda')\n",
    "        outputs = model(**inputs)\n",
    "        \n",
    "        cls_embeddings = outputs.last_hidden_state[:, 0, :]\n",
    "        embs.append(cls_embeddings.cpu().detach().numpy())\n",
    "    embs = np.concatenate(embs)\n",
    "    np.save(str(part),embs)"
   ],
   "metadata": {
    "collapsed": false,
    "ExecuteTime": {
     "end_time": "2025-05-10T15:58:37.471049600Z",
     "start_time": "2025-05-10T15:56:36.869324100Z"
    }
   },
   "id": "8fe52e1fd1af690a"
  },
  {
   "cell_type": "markdown",
   "source": [
    "# Save concept embeddings"
   ],
   "metadata": {
    "collapsed": false
   },
   "id": "5f97d3b7dda851d3"
  },
  {
   "cell_type": "code",
   "execution_count": 7,
   "outputs": [],
   "source": [
    "from os import listdir\n",
    "\n",
    "data = np.concatenate([np.load(f'parts/{part}') for part in listdir('parts')])\n",
    "np.save('concepts', data)"
   ],
   "metadata": {
    "collapsed": false,
    "ExecuteTime": {
     "end_time": "2025-05-10T17:01:58.438317100Z",
     "start_time": "2025-05-10T17:01:51.607302600Z"
    }
   },
   "id": "1d9156f586d3c49"
  }
 ],
 "metadata": {
  "kernelspec": {
   "display_name": "Python 3",
   "language": "python",
   "name": "python3"
  },
  "language_info": {
   "codemirror_mode": {
    "name": "ipython",
    "version": 2
   },
   "file_extension": ".py",
   "mimetype": "text/x-python",
   "name": "python",
   "nbconvert_exporter": "python",
   "pygments_lexer": "ipython2",
   "version": "2.7.6"
  }
 },
 "nbformat": 4,
 "nbformat_minor": 5
}
