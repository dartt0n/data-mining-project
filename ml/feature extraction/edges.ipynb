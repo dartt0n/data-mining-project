{
 "cells": [
  {
   "cell_type": "markdown",
   "source": [
    "# Imports"
   ],
   "metadata": {
    "collapsed": false
   },
   "id": "772ae19952d6b82b"
  },
  {
   "cell_type": "code",
   "execution_count": null,
   "outputs": [],
   "source": [
    "import polars as pl\n",
    "import numpy as np"
   ],
   "metadata": {
    "collapsed": false
   },
   "id": "e6138f7705036a4c"
  },
  {
   "cell_type": "code",
   "execution_count": 2,
   "outputs": [],
   "source": [
    "df = pl.read_parquet(\"home/ubuntu/sample\")"
   ],
   "metadata": {
    "collapsed": false,
    "ExecuteTime": {
     "end_time": "2025-05-10T19:35:42.993082100Z",
     "start_time": "2025-05-10T19:35:42.116790700Z"
    }
   },
   "id": "d7edf711643f477d"
  },
  {
   "cell_type": "markdown",
   "source": [
    "# Extract edges"
   ],
   "metadata": {
    "collapsed": false
   },
   "id": "aedc14c58e648aa3"
  },
  {
   "cell_type": "code",
   "execution_count": 53,
   "outputs": [],
   "source": [
    "# Using same dataset in same order, so authors will have same id\n",
    "authors = {}\n",
    "edges = []"
   ],
   "metadata": {
    "collapsed": false,
    "ExecuteTime": {
     "end_time": "2025-05-10T19:49:27.381999100Z",
     "start_time": "2025-05-10T19:49:27.380987700Z"
    }
   },
   "id": "c388f314ca2de773"
  },
  {
   "cell_type": "code",
   "execution_count": 55,
   "outputs": [
    {
     "data": {
      "text/plain": "(16784250, 4.126005823186872)"
     },
     "execution_count": 55,
     "metadata": {},
     "output_type": "execute_result"
    }
   ],
   "source": [
    "for author in df['authors']:\n",
    "    # skip too big teams\n",
    "    if len(author) > 10:continue\n",
    "    for atr in author:\n",
    "        if atr['id'] not in authors:\n",
    "            authors[atr['id']] = len(authors)\n",
    "    for atr1 in author:\n",
    "        for atr2 in author:\n",
    "            if atr1['id'] == atr2['id']:continue\n",
    "            edges.append((authors[atr1['id']], authors[atr2['id']]))\n",
    "len(edges)"
   ],
   "metadata": {
    "collapsed": false,
    "ExecuteTime": {
     "end_time": "2025-05-10T19:51:53.031364900Z",
     "start_time": "2025-05-10T19:49:28.606953Z"
    }
   },
   "id": "c40a93bb35f7e5e"
  },
  {
   "cell_type": "code",
   "execution_count": 56,
   "outputs": [
    {
     "data": {
      "text/plain": "(2, 16784250)"
     },
     "execution_count": 56,
     "metadata": {},
     "output_type": "execute_result"
    }
   ],
   "source": [
    "edges = np.array(edges).T\n",
    "edges.shape"
   ],
   "metadata": {
    "collapsed": false,
    "ExecuteTime": {
     "end_time": "2025-05-10T19:52:52.032388700Z",
     "start_time": "2025-05-10T19:52:52.028869700Z"
    }
   },
   "id": "f047fabb858a8989"
  },
  {
   "cell_type": "markdown",
   "source": [
    "# Save final edges"
   ],
   "metadata": {
    "collapsed": false
   },
   "id": "5b21ee18610ab6a5"
  },
  {
   "cell_type": "code",
   "execution_count": 57,
   "outputs": [],
   "source": [
    "np.save('edges', edges)"
   ],
   "metadata": {
    "collapsed": false,
    "ExecuteTime": {
     "end_time": "2025-05-10T19:53:08.267806500Z",
     "start_time": "2025-05-10T19:53:08.129887300Z"
    }
   },
   "id": "985152dc6dac779b"
  }
 ],
 "metadata": {
  "kernelspec": {
   "display_name": "Python 3",
   "language": "python",
   "name": "python3"
  },
  "language_info": {
   "codemirror_mode": {
    "name": "ipython",
    "version": 2
   },
   "file_extension": ".py",
   "mimetype": "text/x-python",
   "name": "python",
   "nbconvert_exporter": "python",
   "pygments_lexer": "ipython2",
   "version": "2.7.6"
  }
 },
 "nbformat": 4,
 "nbformat_minor": 5
}
