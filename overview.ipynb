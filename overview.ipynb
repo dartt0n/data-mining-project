{
 "cells": [
  {
   "cell_type": "code",
   "execution_count": null,
   "id": "15d0756a",
   "metadata": {},
   "outputs": [],
   "source": [
    "import polars as pl\n",
    "import plotly.express as px\n",
    "\n",
    "ops = dict(\n",
    "    region_name=\"ru-central1\",\n",
    "    endpoint_url=\"https://s3.yandexcloud.net\",\n",
    "    service_name=\"s3\",\n",
    ")"
   ]
  },
  {
   "cell_type": "code",
   "execution_count": null,
   "id": "6bc070a4",
   "metadata": {},
   "outputs": [],
   "source": [
    "pl.read_parquet(\n",
    "    \"s3://openalex/rich-sample-1-stats/citations/*.parquet\", storage_options=ops\n",
    ")"
   ]
  },
  {
   "cell_type": "code",
   "execution_count": null,
   "id": "9eb2956d",
   "metadata": {},
   "outputs": [],
   "source": [
    "pl.read_parquet(\n",
    "    \"s3://openalex/rich-sample-1-stats/unique_authors/*.parquet\", storage_options=ops\n",
    ")"
   ]
  },
  {
   "cell_type": "code",
   "execution_count": null,
   "id": "6c723bbd",
   "metadata": {},
   "outputs": [],
   "source": [
    "pl.read_parquet(\n",
    "    \"s3://openalex/rich-sample-1-stats/unique_works/*.parquet\", storage_options=ops\n",
    ")"
   ]
  },
  {
   "cell_type": "code",
   "execution_count": null,
   "id": "e8b2063c",
   "metadata": {},
   "outputs": [],
   "source": [
    "pl.read_parquet(\n",
    "    \"s3://openalex/rich-sample-1-stats/unique_teams/*.parquet\", storage_options=ops\n",
    ")"
   ]
  },
  {
   "cell_type": "code",
   "execution_count": 13,
   "id": "08711703",
   "metadata": {},
   "outputs": [],
   "source": [
    "df = pl.read_parquet(\n",
    "    \"s3://openalex/rich-sample-1-stats/works_by_concept/*.parquet\",\n",
    "    storage_options=ops,\n",
    ")\n",
    "\n",
    "df_filtered = df.filter(pl.col(\"works\") > 75000)\n",
    "\n",
    "fig = px.pie(\n",
    "    df_filtered.to_pandas(),\n",
    "    names=\"concept\",\n",
    "    values=\"works\",\n",
    "    title=\"Works Distribution by concepts covered\",\n",
    ")\n",
    "\n",
    "fig.add_annotation(\n",
    "    text=\"Concepts with less than 75k publications are dropped\",\n",
    "    x=0.5,\n",
    "    y=-0.1,\n",
    "    showarrow=False,\n",
    "    xref=\"paper\",\n",
    "    yref=\"paper\",\n",
    "    font=dict(size=12),\n",
    ")\n",
    "\n",
    "fig.write_image(\"works_by_concept.png\", width=800, height=640)"
   ]
  },
  {
   "cell_type": "code",
   "execution_count": 3,
   "id": "14c779a1",
   "metadata": {},
   "outputs": [],
   "source": [
    "df = pl.read_parquet(\n",
    "        \"s3://openalex/rich-sample-1-stats/works_by_country/*.parquet\",\n",
    "        storage_options=ops,\n",
    ")\n",
    "\n",
    "df_filtered = df.with_columns(\n",
    "    pl.when(pl.col(\"works\") < 50_000)\n",
    "    .then(pl.lit(\"other\"))\n",
    "    .otherwise(pl.col(\"country\"))\n",
    "    .alias(\"country_grouped\")\n",
    ").group_by(\"country_grouped\").agg(pl.sum(\"works\").alias(\"works\"))\n",
    "\n",
    "fig = px.pie(\n",
    "    df_filtered.to_pandas(),\n",
    "    names=\"country_grouped\",\n",
    "    values=\"works\",\n",
    "    title=\"Works Distribution by Country\",\n",
    ")\n",
    "\n",
    "\n",
    "fig.add_annotation(\n",
    "    text=\"Countries with less than 50k publications are merged as \\\"other\\\".\",\n",
    "    x=0.5,\n",
    "    y=-0.1,\n",
    "    showarrow=False,\n",
    "    xref=\"paper\",\n",
    "    yref=\"paper\",\n",
    "    font=dict(size=12),\n",
    ")\n",
    "\n",
    "fig.write_image(\"works_by_country.png\", width=800, height=640)"
   ]
  },
  {
   "cell_type": "code",
   "execution_count": null,
   "id": "7e792562",
   "metadata": {},
   "outputs": [],
   "source": [
    "df = pl.read_parquet(\n",
    "        \"s3://openalex/rich-sample-1-stats/works_by_country/*.parquet\",\n",
    "        storage_options=ops,\n",
    ").sort(\"works\", descending=True).head(20)\n",
    "\n",
    "df"
   ]
  }
 ],
 "metadata": {
  "kernelspec": {
   "display_name": ".venv",
   "language": "python",
   "name": "python3"
  },
  "language_info": {
   "codemirror_mode": {
    "name": "ipython",
    "version": 3
   },
   "file_extension": ".py",
   "mimetype": "text/x-python",
   "name": "python",
   "nbconvert_exporter": "python",
   "pygments_lexer": "ipython3",
   "version": "3.12.8"
  }
 },
 "nbformat": 4,
 "nbformat_minor": 5
}
